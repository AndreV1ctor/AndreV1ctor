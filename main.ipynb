{
  "cells": [
    {
      "cell_type": "markdown",
      "metadata": {
        "id": "view-in-github",
        "colab_type": "text"
      },
      "source": [
        "<a href=\"https://colab.research.google.com/github/AndreV1ctor/AndreV1ctor/blob/master/main.ipynb\" target=\"_parent\"><img src=\"https://colab.research.google.com/assets/colab-badge.svg\" alt=\"Open In Colab\"/></a>"
      ]
    },
    {
      "cell_type": "code",
      "execution_count": null,
      "id": "d198aedc",
      "metadata": {
        "id": "d198aedc",
        "outputId": "da18787b-b5c6-4472-968d-d32f651ecc20"
      },
      "outputs": [
        {
          "name": "stdout",
          "output_type": "stream",
          "text": [
            "0    10.0\n",
            "1     5.0\n",
            "2     7.5\n",
            "3     9.0\n",
            "4    10.0\n",
            "dtype: float64\n"
          ]
        }
      ],
      "source": [
        "import numpy as np\n",
        "import pandas as pd\n",
        "\n",
        "notas = pd.Series([10,5,7.5,9,10])\n",
        "print(notas)"
      ]
    },
    {
      "cell_type": "code",
      "execution_count": null,
      "id": "7a02cc6e",
      "metadata": {
        "id": "7a02cc6e",
        "outputId": "e6d5f4f7-7d83-435c-9745-f2c30e0e1b4c"
      },
      "outputs": [
        {
          "name": "stdout",
          "output_type": "stream",
          "text": [
            "[10.   5.   7.5  9.  10. ]\n",
            "RangeIndex(start=0, stop=5, step=1)\n"
          ]
        }
      ],
      "source": [
        "print(notas.values)\n",
        "print(notas.index)"
      ]
    },
    {
      "cell_type": "code",
      "execution_count": null,
      "id": "0c8b93a5",
      "metadata": {
        "id": "0c8b93a5",
        "outputId": "a38d05ce-4dce-430a-e16e-586127b01eb5"
      },
      "outputs": [
        {
          "name": "stdout",
          "output_type": "stream",
          "text": [
            "José      10.0\n",
            "Carlos     5.0\n",
            "André      7.5\n",
            "João       9.0\n",
            "Débora    10.0\n",
            "dtype: float64\n"
          ]
        }
      ],
      "source": [
        "notas2 = pd.Series([10,5,7.5,9,10], index=['José', 'Carlos', 'André', 'João', 'Débora'])\n",
        "print(notas2)"
      ]
    },
    {
      "cell_type": "code",
      "execution_count": null,
      "id": "51124ebd",
      "metadata": {
        "id": "51124ebd",
        "outputId": "f2a22922-4e13-4752-90c4-3f8295b7d80c"
      },
      "outputs": [
        {
          "name": "stdout",
          "output_type": "stream",
          "text": [
            "count     5.000000\n",
            "mean      8.300000\n",
            "std       2.109502\n",
            "min       5.000000\n",
            "25%       7.500000\n",
            "50%       9.000000\n",
            "75%      10.000000\n",
            "max      10.000000\n",
            "dtype: float64\n"
          ]
        }
      ],
      "source": [
        "print(notas.describe())"
      ]
    },
    {
      "cell_type": "code",
      "execution_count": null,
      "id": "d1ba2996",
      "metadata": {
        "id": "d1ba2996",
        "outputId": "d1d28ee7-917c-4af6-82d3-df4b94bbd658"
      },
      "outputs": [
        {
          "name": "stdout",
          "output_type": "stream",
          "text": [
            "8.3\n",
            "0    100.00\n",
            "1     25.00\n",
            "2     56.25\n",
            "3     81.00\n",
            "4    100.00\n",
            "dtype: float64\n"
          ]
        }
      ],
      "source": [
        "print(notas.mean())\n",
        "print(notas**2)"
      ]
    },
    {
      "cell_type": "code",
      "execution_count": null,
      "id": "52374a50",
      "metadata": {
        "id": "52374a50"
      },
      "outputs": [],
      "source": []
    }
  ],
  "metadata": {
    "kernelspec": {
      "display_name": "Python 3 (ipykernel)",
      "language": "python",
      "name": "python3"
    },
    "language_info": {
      "codemirror_mode": {
        "name": "ipython",
        "version": 3
      },
      "file_extension": ".py",
      "mimetype": "text/x-python",
      "name": "python",
      "nbconvert_exporter": "python",
      "pygments_lexer": "ipython3",
      "version": "3.9.13"
    },
    "colab": {
      "provenance": [],
      "include_colab_link": true
    }
  },
  "nbformat": 4,
  "nbformat_minor": 5
}